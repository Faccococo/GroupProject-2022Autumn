{
 "cells": [
  {
   "cell_type": "code",
   "execution_count": 15,
   "metadata": {},
   "outputs": [
    {
     "data": {
      "text/plain": [
       "<pyrender.node.Node at 0x13beec5da00>"
      ]
     },
     "execution_count": 15,
     "metadata": {},
     "output_type": "execute_result"
    }
   ],
   "source": [
    "import trimesh\n",
    "import pyrender\n",
    "import numpy as np\n",
    "fuze_trimesh = trimesh.load('../examples/models/fuze.obj')\n",
    "mesh = pyrender.Mesh.from_trimesh(fuze_trimesh)\n",
    "scene = pyrender.Scene()\n",
    "scene.add(mesh)\n"
   ]
  },
  {
   "cell_type": "code",
   "execution_count": 16,
   "metadata": {},
   "outputs": [
    {
     "data": {
      "text/plain": [
       "<pyrender.node.Node at 0x13beec76af0>"
      ]
     },
     "execution_count": 16,
     "metadata": {},
     "output_type": "execute_result"
    }
   ],
   "source": [
    "pl = pyrender.PointLight(color=[1.0,1.0,1.0], intensity=2.0)\n",
    "sl = pyrender.SpotLight(color=[1.0, 1.0, 1.0], intensity=2.0,\\\n",
    "                             innerConeAngle=0.05, outerConeAngle=0.5)\n",
    "dl = pyrender.DirectionalLight(color=[1.0, 1.0, 1.0], intensity=10.0)  \n",
    "scene.add(dl)"
   ]
  },
  {
   "cell_type": "code",
   "execution_count": 17,
   "metadata": {},
   "outputs": [],
   "source": [
    "cam = pyrender.PerspectiveCamera(yfov=np.pi / 3.0, aspectRatio=1.414)\n",
    "nc = pyrender.Node(camera=cam, matrix=np.eye(4))\n",
    "scene.add_node(nc)\n",
    "scene.main_camera_node = nc"
   ]
  },
  {
   "cell_type": "code",
   "execution_count": 18,
   "metadata": {},
   "outputs": [
    {
     "data": {
      "text/plain": [
       "Viewer(width=640, height=480)"
      ]
     },
     "execution_count": 18,
     "metadata": {},
     "output_type": "execute_result"
    }
   ],
   "source": [
    "pyrender.Viewer(scene)"
   ]
  }
 ],
 "metadata": {
  "kernelspec": {
   "display_name": "Python 3.9.12 ('base')",
   "language": "python",
   "name": "python3"
  },
  "language_info": {
   "codemirror_mode": {
    "name": "ipython",
    "version": 3
   },
   "file_extension": ".py",
   "mimetype": "text/x-python",
   "name": "python",
   "nbconvert_exporter": "python",
   "pygments_lexer": "ipython3",
   "version": "3.9.12"
  },
  "orig_nbformat": 4,
  "vscode": {
   "interpreter": {
    "hash": "9cc3e8438eca74874e19e7b4d45f101f2df8b6a84936bd45a4455d5fbb915a84"
   }
  }
 },
 "nbformat": 4,
 "nbformat_minor": 2
}
