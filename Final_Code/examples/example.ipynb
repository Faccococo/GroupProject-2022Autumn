{
 "cells": [
  {
   "cell_type": "code",
   "execution_count": 43,
   "metadata": {},
   "outputs": [],
   "source": [
    "import pyglet\n",
    "pyglet.options['shadow_window'] = False\n",
    "import os\n",
    "import numpy as np\n",
    "import trimesh\n",
    "import pyrr\n",
    "\n",
    "from pyrender import PerspectiveCamera,\\\n",
    "                     DirectionalLight, SpotLight, PointLight,\\\n",
    "                     MetallicRoughnessMaterial,\\\n",
    "                     Primitive, Mesh, Node, Scene,\\\n",
    "                     Viewer, OffscreenRenderer, RenderFlags"
   ]
  },
  {
   "cell_type": "markdown",
   "metadata": {},
   "source": [
    "# Mesh Creating"
   ]
  },
  {
   "cell_type": "markdown",
   "metadata": {},
   "source": [
    "### Creating textured meshes from trimeshes"
   ]
  },
  {
   "cell_type": "code",
   "execution_count": 44,
   "metadata": {},
   "outputs": [],
   "source": [
    "# Fuze trimesh\n",
    "fuze_trimesh = trimesh.load('./models/fuze.obj')\n",
    "fuze_mesh = Mesh.from_trimesh(fuze_trimesh)\n",
    "\n",
    "# Drill trimesh\n",
    "drill_trimesh = trimesh.load('./models/drill.obj')\n",
    "drill_mesh = Mesh.from_trimesh(drill_trimesh)\n",
    "drill_pose = np.eye(4)\n",
    "drill_pose[0,3] = 0.1\n",
    "drill_pose[2,3] = -np.min(drill_trimesh.vertices[:,2])\n",
    "\n",
    "# Wood trimesh\n",
    "wood_trimesh = trimesh.load('./models/wood.obj')\n",
    "wood_mesh = Mesh.from_trimesh(wood_trimesh)\n",
    "\n",
    "# Water bottle trimesh\n",
    "bottle_gltf = trimesh.load('./models/WaterBottle.glb')\n",
    "bottle_trimesh = bottle_gltf.geometry[list(bottle_gltf.geometry.keys())[0]]\n",
    "bottle_mesh = Mesh.from_trimesh(bottle_trimesh)\n",
    "bottle_pose = np.array([\n",
    "    [1.0, 0.0,  0.0, 0.1],\n",
    "    [0.0, 0.0, -1.0, -0.16],\n",
    "    [0.0, 1.0,  0.0, 0.13],\n",
    "    [0.0, 0.0,  0.0, 1.0],\n",
    "])"
   ]
  },
  {
   "cell_type": "markdown",
   "metadata": {},
   "source": [
    "### Creating meshes with per-vertex colors"
   ]
  },
  {
   "cell_type": "code",
   "execution_count": 45,
   "metadata": {},
   "outputs": [],
   "source": [
    "boxv_trimesh = trimesh.creation.box(extents=0.1*np.ones(3))\n",
    "boxv_vertex_colors = np.random.uniform(size=(boxv_trimesh.vertices.shape))\n",
    "boxv_trimesh.visual.vertex_colors = boxv_vertex_colors\n",
    "boxv_mesh = Mesh.from_trimesh(boxv_trimesh, smooth=False)"
   ]
  },
  {
   "cell_type": "markdown",
   "metadata": {},
   "source": [
    "### Creating meshes with per-face colors"
   ]
  },
  {
   "cell_type": "code",
   "execution_count": 46,
   "metadata": {},
   "outputs": [],
   "source": [
    "boxf_trimesh = trimesh.creation.box(extents=0.1*np.ones(3))\n",
    "boxf_face_colors = np.random.uniform(size=boxf_trimesh.faces.shape)\n",
    "boxf_trimesh.visual.face_colors = boxf_face_colors\n",
    "boxf_mesh = Mesh.from_trimesh(boxf_trimesh, smooth=False)"
   ]
  },
  {
   "cell_type": "markdown",
   "metadata": {},
   "source": [
    "### Creating meshes from point clouds"
   ]
  },
  {
   "cell_type": "code",
   "execution_count": 47,
   "metadata": {},
   "outputs": [],
   "source": [
    "points = trimesh.creation.icosphere(radius=0.05).vertices\n",
    "point_colors = np.random.uniform(size=points.shape)\n",
    "points_mesh = Mesh.from_points(points, colors=point_colors)"
   ]
  },
  {
   "cell_type": "markdown",
   "metadata": {},
   "source": [
    "# Light creation"
   ]
  },
  {
   "cell_type": "code",
   "execution_count": 48,
   "metadata": {},
   "outputs": [],
   "source": [
    "direc_l = DirectionalLight(color=np.ones(3), intensity=1.0)\n",
    "spot_l = SpotLight(color=np.ones(3), intensity=10.0,\n",
    "                   innerConeAngle=np.pi/16, outerConeAngle=np.pi/6)\n",
    "point_l = PointLight(color=np.ones(3), intensity=10.0)"
   ]
  },
  {
   "cell_type": "markdown",
   "metadata": {},
   "source": [
    "# Camera creation"
   ]
  },
  {
   "cell_type": "code",
   "execution_count": 49,
   "metadata": {},
   "outputs": [
    {
     "data": {
      "text/plain": [
       "array([[ 0.        , -0.62469505,  0.78086881,  0.5       ],\n",
       "       [ 1.        ,  0.        ,  0.        ,  0.        ],\n",
       "       [ 0.        ,  0.78086881,  0.62469505,  0.4       ],\n",
       "       [ 0.        ,  0.        ,  0.        ,  1.        ]])"
      ]
     },
     "execution_count": 49,
     "metadata": {},
     "output_type": "execute_result"
    }
   ],
   "source": [
    "cam = PerspectiveCamera(yfov=(np.pi / 3.0),aspectRatio=1.414)\n",
    "# cam_pose = np.array([\n",
    "#     [0.0,  -np.sqrt(2)/2, np.sqrt(2)/2, 0.5],\n",
    "#     [1.0, 0.0,           0.0,           0.0],\n",
    "#     [0.0,  np.sqrt(2)/2,  np.sqrt(2)/2, 0.4],\n",
    "#     [0.0,  0.0,           0.0,          1.0]\n",
    "# ])\n",
    "cam_pose = pyrr.matrix44.create_look_at((0.5,0.0,0.4), (0,0,0), (0,0,1))\n",
    "cam_pose = np.linalg.inv(cam_pose.T)\n",
    "cam_pose"
   ]
  },
  {
   "cell_type": "markdown",
   "metadata": {},
   "source": [
    "# Scene creation"
   ]
  },
  {
   "cell_type": "code",
   "execution_count": 50,
   "metadata": {},
   "outputs": [],
   "source": [
    "scene = Scene(ambient_light=np.array([0.02, 0.02, 0.02, 1.0]))"
   ]
  },
  {
   "cell_type": "markdown",
   "metadata": {},
   "source": [
    "# Adding objects to the scene"
   ]
  },
  {
   "cell_type": "markdown",
   "metadata": {},
   "source": [
    "### By manually creating nodes"
   ]
  },
  {
   "cell_type": "code",
   "execution_count": 51,
   "metadata": {},
   "outputs": [],
   "source": [
    "fuze_node = Node(mesh=fuze_mesh, translation=np.array([0.1, 0.15, -np.min(fuze_trimesh.vertices[:,2])]))\n",
    "scene.add_node(fuze_node)\n",
    "boxv_node = Node(mesh=boxv_mesh, translation=np.array([-0.1, 0.10, 0.05]))\n",
    "scene.add_node(boxv_node)\n",
    "boxf_node = Node(mesh=boxf_mesh, translation=np.array([-0.1, -0.10, 0.05]))\n",
    "scene.add_node(boxf_node)"
   ]
  },
  {
   "cell_type": "markdown",
   "metadata": {},
   "source": [
    "### By using the add() utility function"
   ]
  },
  {
   "cell_type": "code",
   "execution_count": 52,
   "metadata": {},
   "outputs": [],
   "source": [
    "drill_node = scene.add(drill_mesh, pose=drill_pose)\n",
    "bottle_node = scene.add(bottle_mesh, pose=bottle_pose)\n",
    "wood_node = scene.add(wood_mesh)\n",
    "direc_l_node = scene.add(direc_l, pose=cam_pose)\n",
    "spot_l_node = scene.add(spot_l, pose=cam_pose)"
   ]
  },
  {
   "cell_type": "markdown",
   "metadata": {},
   "source": [
    "# Using the viewer"
   ]
  },
  {
   "cell_type": "markdown",
   "metadata": {},
   "source": [
    "### Using the viewer with a default camera"
   ]
  },
  {
   "cell_type": "code",
   "execution_count": 53,
   "metadata": {},
   "outputs": [],
   "source": [
    "# v = Viewer(scene, shadows=True)"
   ]
  },
  {
   "cell_type": "markdown",
   "metadata": {},
   "source": [
    "### Using the viewer with a pre-specified camera"
   ]
  },
  {
   "cell_type": "code",
   "execution_count": 54,
   "metadata": {},
   "outputs": [],
   "source": [
    "cam_node = scene.add(cam, pose=cam_pose)\n",
    "v = Viewer(scene, central_node=drill_node)\n"
   ]
  },
  {
   "cell_type": "markdown",
   "metadata": {},
   "source": [
    "### Rendering offscreen from that camera"
   ]
  },
  {
   "cell_type": "code",
   "execution_count": 55,
   "metadata": {},
   "outputs": [],
   "source": [
    "# r = OffscreenRenderer(viewport_width=640*2, viewport_height=480*2)\n",
    "# color, depth = r.render(scene)\n",
    "\n",
    "# import matplotlib.pyplot as plt\n",
    "# plt.figure()\n",
    "# plt.imshow(color)\n",
    "# plt.show()"
   ]
  },
  {
   "cell_type": "markdown",
   "metadata": {},
   "source": [
    "### Segmask rendering"
   ]
  },
  {
   "cell_type": "code",
   "execution_count": 56,
   "metadata": {},
   "outputs": [],
   "source": [
    "# nm = {node: 20*(i + 1) for i, node in enumerate(scene.mesh_nodes)}\n",
    "# seg = r.render(scene, RenderFlags.SEG, nm)[0]\n",
    "# plt.figure()\n",
    "# plt.imshow(seg)\n",
    "# plt.show()\n",
    "\n",
    "# r.delete()"
   ]
  }
 ],
 "metadata": {
  "kernelspec": {
   "display_name": "Python 3.9.12 ('base')",
   "language": "python",
   "name": "python3"
  },
  "language_info": {
   "codemirror_mode": {
    "name": "ipython",
    "version": 3
   },
   "file_extension": ".py",
   "mimetype": "text/x-python",
   "name": "python",
   "nbconvert_exporter": "python",
   "pygments_lexer": "ipython3",
   "version": "3.9.12"
  },
  "orig_nbformat": 4,
  "vscode": {
   "interpreter": {
    "hash": "2e5d7dfdd8543887202b81b88393e14a06404d0f03b2163b3e532bdf379fc619"
   }
  }
 },
 "nbformat": 4,
 "nbformat_minor": 2
}
